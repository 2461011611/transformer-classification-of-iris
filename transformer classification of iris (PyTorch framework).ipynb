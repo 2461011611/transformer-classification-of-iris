{
  "nbformat": 4,
  "nbformat_minor": 0,
  "metadata": {
    "colab": {
      "provenance": [],
      "gpuType": "T4"
    },
    "kernelspec": {
      "name": "python3",
      "display_name": "Python 3"
    },
    "language_info": {
      "name": "python"
    },
    "accelerator": "GPU",
    "widgets": {
      "application/vnd.jupyter.widget-state+json": {
        "d6cb0a6f2cea426d948b7fa534fec1c2": {
          "model_module": "@jupyter-widgets/controls",
          "model_name": "HBoxModel",
          "model_module_version": "1.5.0",
          "state": {
            "_dom_classes": [],
            "_model_module": "@jupyter-widgets/controls",
            "_model_module_version": "1.5.0",
            "_model_name": "HBoxModel",
            "_view_count": null,
            "_view_module": "@jupyter-widgets/controls",
            "_view_module_version": "1.5.0",
            "_view_name": "HBoxView",
            "box_style": "",
            "children": [
              "IPY_MODEL_4f2b6fa161c94b22ae5453d2bc43b528",
              "IPY_MODEL_4dcf1deee8c540b3bcac3535a4f75ea5",
              "IPY_MODEL_9c880cef30d649e29a3c1c25ffc1fd1a"
            ],
            "layout": "IPY_MODEL_745be0d08414488285df19e1de3dacc0"
          }
        },
        "4f2b6fa161c94b22ae5453d2bc43b528": {
          "model_module": "@jupyter-widgets/controls",
          "model_name": "HTMLModel",
          "model_module_version": "1.5.0",
          "state": {
            "_dom_classes": [],
            "_model_module": "@jupyter-widgets/controls",
            "_model_module_version": "1.5.0",
            "_model_name": "HTMLModel",
            "_view_count": null,
            "_view_module": "@jupyter-widgets/controls",
            "_view_module_version": "1.5.0",
            "_view_name": "HTMLView",
            "description": "",
            "description_tooltip": null,
            "layout": "IPY_MODEL_298827e45d734de7b8b78d837ccc7c16",
            "placeholder": "​",
            "style": "IPY_MODEL_7be5417136d24e76bf85636a2be39de8",
            "value": "100%"
          }
        },
        "4dcf1deee8c540b3bcac3535a4f75ea5": {
          "model_module": "@jupyter-widgets/controls",
          "model_name": "FloatProgressModel",
          "model_module_version": "1.5.0",
          "state": {
            "_dom_classes": [],
            "_model_module": "@jupyter-widgets/controls",
            "_model_module_version": "1.5.0",
            "_model_name": "FloatProgressModel",
            "_view_count": null,
            "_view_module": "@jupyter-widgets/controls",
            "_view_module_version": "1.5.0",
            "_view_name": "ProgressView",
            "bar_style": "success",
            "description": "",
            "description_tooltip": null,
            "layout": "IPY_MODEL_6f8dfa4f847041abbb539ed05bea1a1b",
            "max": 2,
            "min": 0,
            "orientation": "horizontal",
            "style": "IPY_MODEL_1f2667298d624cf1a77d671d02acc8cf",
            "value": 2
          }
        },
        "9c880cef30d649e29a3c1c25ffc1fd1a": {
          "model_module": "@jupyter-widgets/controls",
          "model_name": "HTMLModel",
          "model_module_version": "1.5.0",
          "state": {
            "_dom_classes": [],
            "_model_module": "@jupyter-widgets/controls",
            "_model_module_version": "1.5.0",
            "_model_name": "HTMLModel",
            "_view_count": null,
            "_view_module": "@jupyter-widgets/controls",
            "_view_module_version": "1.5.0",
            "_view_name": "HTMLView",
            "description": "",
            "description_tooltip": null,
            "layout": "IPY_MODEL_82fdaba9d8884e68bff196af00271477",
            "placeholder": "​",
            "style": "IPY_MODEL_5c17271428d74da1af3715b106d2763a",
            "value": " 2/2 [00:00&lt;00:00, 23.85it/s]"
          }
        },
        "745be0d08414488285df19e1de3dacc0": {
          "model_module": "@jupyter-widgets/base",
          "model_name": "LayoutModel",
          "model_module_version": "1.2.0",
          "state": {
            "_model_module": "@jupyter-widgets/base",
            "_model_module_version": "1.2.0",
            "_model_name": "LayoutModel",
            "_view_count": null,
            "_view_module": "@jupyter-widgets/base",
            "_view_module_version": "1.2.0",
            "_view_name": "LayoutView",
            "align_content": null,
            "align_items": null,
            "align_self": null,
            "border": null,
            "bottom": null,
            "display": null,
            "flex": null,
            "flex_flow": null,
            "grid_area": null,
            "grid_auto_columns": null,
            "grid_auto_flow": null,
            "grid_auto_rows": null,
            "grid_column": null,
            "grid_gap": null,
            "grid_row": null,
            "grid_template_areas": null,
            "grid_template_columns": null,
            "grid_template_rows": null,
            "height": null,
            "justify_content": null,
            "justify_items": null,
            "left": null,
            "margin": null,
            "max_height": null,
            "max_width": null,
            "min_height": null,
            "min_width": null,
            "object_fit": null,
            "object_position": null,
            "order": null,
            "overflow": null,
            "overflow_x": null,
            "overflow_y": null,
            "padding": null,
            "right": null,
            "top": null,
            "visibility": null,
            "width": null
          }
        },
        "298827e45d734de7b8b78d837ccc7c16": {
          "model_module": "@jupyter-widgets/base",
          "model_name": "LayoutModel",
          "model_module_version": "1.2.0",
          "state": {
            "_model_module": "@jupyter-widgets/base",
            "_model_module_version": "1.2.0",
            "_model_name": "LayoutModel",
            "_view_count": null,
            "_view_module": "@jupyter-widgets/base",
            "_view_module_version": "1.2.0",
            "_view_name": "LayoutView",
            "align_content": null,
            "align_items": null,
            "align_self": null,
            "border": null,
            "bottom": null,
            "display": null,
            "flex": null,
            "flex_flow": null,
            "grid_area": null,
            "grid_auto_columns": null,
            "grid_auto_flow": null,
            "grid_auto_rows": null,
            "grid_column": null,
            "grid_gap": null,
            "grid_row": null,
            "grid_template_areas": null,
            "grid_template_columns": null,
            "grid_template_rows": null,
            "height": null,
            "justify_content": null,
            "justify_items": null,
            "left": null,
            "margin": null,
            "max_height": null,
            "max_width": null,
            "min_height": null,
            "min_width": null,
            "object_fit": null,
            "object_position": null,
            "order": null,
            "overflow": null,
            "overflow_x": null,
            "overflow_y": null,
            "padding": null,
            "right": null,
            "top": null,
            "visibility": null,
            "width": null
          }
        },
        "7be5417136d24e76bf85636a2be39de8": {
          "model_module": "@jupyter-widgets/controls",
          "model_name": "DescriptionStyleModel",
          "model_module_version": "1.5.0",
          "state": {
            "_model_module": "@jupyter-widgets/controls",
            "_model_module_version": "1.5.0",
            "_model_name": "DescriptionStyleModel",
            "_view_count": null,
            "_view_module": "@jupyter-widgets/base",
            "_view_module_version": "1.2.0",
            "_view_name": "StyleView",
            "description_width": ""
          }
        },
        "6f8dfa4f847041abbb539ed05bea1a1b": {
          "model_module": "@jupyter-widgets/base",
          "model_name": "LayoutModel",
          "model_module_version": "1.2.0",
          "state": {
            "_model_module": "@jupyter-widgets/base",
            "_model_module_version": "1.2.0",
            "_model_name": "LayoutModel",
            "_view_count": null,
            "_view_module": "@jupyter-widgets/base",
            "_view_module_version": "1.2.0",
            "_view_name": "LayoutView",
            "align_content": null,
            "align_items": null,
            "align_self": null,
            "border": null,
            "bottom": null,
            "display": null,
            "flex": null,
            "flex_flow": null,
            "grid_area": null,
            "grid_auto_columns": null,
            "grid_auto_flow": null,
            "grid_auto_rows": null,
            "grid_column": null,
            "grid_gap": null,
            "grid_row": null,
            "grid_template_areas": null,
            "grid_template_columns": null,
            "grid_template_rows": null,
            "height": null,
            "justify_content": null,
            "justify_items": null,
            "left": null,
            "margin": null,
            "max_height": null,
            "max_width": null,
            "min_height": null,
            "min_width": null,
            "object_fit": null,
            "object_position": null,
            "order": null,
            "overflow": null,
            "overflow_x": null,
            "overflow_y": null,
            "padding": null,
            "right": null,
            "top": null,
            "visibility": null,
            "width": null
          }
        },
        "1f2667298d624cf1a77d671d02acc8cf": {
          "model_module": "@jupyter-widgets/controls",
          "model_name": "ProgressStyleModel",
          "model_module_version": "1.5.0",
          "state": {
            "_model_module": "@jupyter-widgets/controls",
            "_model_module_version": "1.5.0",
            "_model_name": "ProgressStyleModel",
            "_view_count": null,
            "_view_module": "@jupyter-widgets/base",
            "_view_module_version": "1.2.0",
            "_view_name": "StyleView",
            "bar_color": null,
            "description_width": ""
          }
        },
        "82fdaba9d8884e68bff196af00271477": {
          "model_module": "@jupyter-widgets/base",
          "model_name": "LayoutModel",
          "model_module_version": "1.2.0",
          "state": {
            "_model_module": "@jupyter-widgets/base",
            "_model_module_version": "1.2.0",
            "_model_name": "LayoutModel",
            "_view_count": null,
            "_view_module": "@jupyter-widgets/base",
            "_view_module_version": "1.2.0",
            "_view_name": "LayoutView",
            "align_content": null,
            "align_items": null,
            "align_self": null,
            "border": null,
            "bottom": null,
            "display": null,
            "flex": null,
            "flex_flow": null,
            "grid_area": null,
            "grid_auto_columns": null,
            "grid_auto_flow": null,
            "grid_auto_rows": null,
            "grid_column": null,
            "grid_gap": null,
            "grid_row": null,
            "grid_template_areas": null,
            "grid_template_columns": null,
            "grid_template_rows": null,
            "height": null,
            "justify_content": null,
            "justify_items": null,
            "left": null,
            "margin": null,
            "max_height": null,
            "max_width": null,
            "min_height": null,
            "min_width": null,
            "object_fit": null,
            "object_position": null,
            "order": null,
            "overflow": null,
            "overflow_x": null,
            "overflow_y": null,
            "padding": null,
            "right": null,
            "top": null,
            "visibility": null,
            "width": null
          }
        },
        "5c17271428d74da1af3715b106d2763a": {
          "model_module": "@jupyter-widgets/controls",
          "model_name": "DescriptionStyleModel",
          "model_module_version": "1.5.0",
          "state": {
            "_model_module": "@jupyter-widgets/controls",
            "_model_module_version": "1.5.0",
            "_model_name": "DescriptionStyleModel",
            "_view_count": null,
            "_view_module": "@jupyter-widgets/base",
            "_view_module_version": "1.2.0",
            "_view_name": "StyleView",
            "description_width": ""
          }
        }
      }
    }
  },
  "cells": [
    {
      "cell_type": "code",
      "execution_count": null,
      "metadata": {
        "id": "M1Z5SdaO3s6L"
      },
      "outputs": [],
      "source": [
        "pip install datasets"
      ]
    },
    {
      "cell_type": "code",
      "source": [
        "import torch\n",
        "import torch.nn as nn\n",
        "import torch.optim as optim\n",
        "from torch.utils.data import Dataset, DataLoader\n",
        "from sklearn.datasets import load_iris\n",
        "from sklearn.model_selection import train_test_split\n",
        "from torchvision.transforms import ToTensor\n",
        "from torch.nn.utils.rnn import pad_sequence"
      ],
      "metadata": {
        "id": "LG6RyyPMyapX"
      },
      "execution_count": null,
      "outputs": []
    },
    {
      "cell_type": "code",
      "source": [
        "# Defining the Transformer model\n",
        "class TransformerModel(nn.Module):\n",
        "    def __init__(self, input_dim, hidden_dim, output_dim, num_layers, num_heads):\n",
        "        super(TransformerModel, self).__init__()\n",
        "        \n",
        "        self.embedding = nn.Linear(input_dim, hidden_dim)\n",
        "        self.transformer = nn.TransformerEncoder(\n",
        "            nn.TransformerEncoderLayer(hidden_dim, num_heads),\n",
        "            num_layers\n",
        "        )\n",
        "        self.fc = nn.Linear(hidden_dim, output_dim)\n",
        "        \n",
        "    def forward(self, x):\n",
        "        x = self.embedding(x)\n",
        "        x = self.transformer(x)\n",
        "        x = x.mean(dim=1)  # \n",
        "        x = self.fc(x)\n",
        "        return x\n"
      ],
      "metadata": {
        "id": "qYFUYm23yasQ"
      },
      "execution_count": null,
      "outputs": []
    },
    {
      "cell_type": "code",
      "source": [
        "# Loading the Iris dataset\n",
        "iris_data = load_iris()\n",
        "data = iris_data.data\n",
        "targets = iris_data.target"
      ],
      "metadata": {
        "id": "_WVljU3MyW1_"
      },
      "execution_count": null,
      "outputs": []
    },
    {
      "cell_type": "code",
      "source": [
        "# Dividing the training set and test set\n",
        "train_data, test_data, train_targets, test_targets = train_test_split(data, targets, test_size=0.2, random_state=42)"
      ],
      "metadata": {
        "id": "-fer0tK7yW5K"
      },
      "execution_count": null,
      "outputs": []
    },
    {
      "cell_type": "code",
      "source": [
        "# Defining custom data sets\n",
        "class IrisDataset(Dataset):\n",
        "    def __init__(self, data, targets):\n",
        "        self.data = data\n",
        "        self.targets = targets\n",
        "    \n",
        "    def __len__(self):\n",
        "        return len(self.data)\n",
        "    \n",
        "    def __getitem__(self, idx):\n",
        "        x = torch.tensor(self.data[idx], dtype=torch.float32)\n",
        "        y = torch.tensor(self.targets[idx], dtype=torch.long)\n",
        "        return x, y\n",
        "\n",
        "# Set random seeds\n",
        "torch.manual_seed(42)\n",
        "\n",
        "# Creating a data loader\n",
        "train_dataset = IrisDataset(train_data, train_targets)\n",
        "train_loader = DataLoader(train_dataset, batch_size=16, shuffle=True)\n",
        "\n",
        "test_dataset = IrisDataset(test_data, test_targets)\n",
        "test_loader = DataLoader(test_dataset, batch_size=1, shuffle=True)\n",
        "\n",
        "# Define hyperparameters\n",
        "input_dim = 4\n",
        "hidden_dim = 128\n",
        "output_dim = 3\n",
        "num_layers = 2\n",
        "num_heads = 4\n",
        "batch_size = 16\n",
        "num_epochs = 50\n",
        "learning_rate = 0.001\n",
        "\n",
        "# Create models and optimizers\n",
        "model = TransformerModel(input_dim, hidden_dim, output_dim, num_layers, num_heads)\n",
        "optimizer = optim.Adam(model.parameters(), lr=learning_rate)\n",
        "criterion = nn.CrossEntropyLoss()"
      ],
      "metadata": {
        "id": "hkCgkjOEyW8Y"
      },
      "execution_count": null,
      "outputs": []
    },
    {
      "cell_type": "code",
      "source": [
        "# Training Model\n",
        "for epoch in range(num_epochs):\n",
        "    total_loss = 0\n",
        "    total_correct = 0\n",
        "    total_samples = 0\n",
        "\n",
        "    for batch_idx, (inputs, targets) in enumerate(train_loader):\n",
        "        optimizer.zero_grad()\n",
        "        \n",
        "        # Adjusting the dimensionality of input data\n",
        "        inputs = inputs.unsqueeze(1)\n",
        "        \n",
        "        outputs = model(inputs)\n",
        "        loss = criterion(outputs, targets)\n",
        "        total_loss += loss.item()\n",
        "        \n",
        "        _, predicted = torch.max(outputs, 1)\n",
        "        total_correct += (predicted == targets).sum().item()\n",
        "        total_samples += targets.size(0)\n",
        "        \n",
        "        loss.backward()\n",
        "        optimizer.step()\n",
        "        \n",
        "    avg_loss = total_loss / len(train_loader)\n",
        "    accuracy = 100 * total_correct / total_samples\n",
        "    \n",
        "    print(f\"Epoch {epoch+1}/{num_epochs}, Loss: {avg_loss:.4f}, Accuracy: {accuracy:.2f}%\")\n"
      ],
      "metadata": {
        "colab": {
          "base_uri": "https://localhost:8080/"
        },
        "id": "Oy26i27XyyjM",
        "outputId": "a04acdde-dd3b-432d-a74f-3c2a11c487dc"
      },
      "execution_count": null,
      "outputs": [
        {
          "output_type": "stream",
          "name": "stdout",
          "text": [
            "Epoch 1/50, Loss: 0.1879, Accuracy: 93.33%\n",
            "Epoch 2/50, Loss: 0.1023, Accuracy: 96.67%\n",
            "Epoch 3/50, Loss: 0.0827, Accuracy: 97.50%\n",
            "Epoch 4/50, Loss: 0.0795, Accuracy: 98.33%\n",
            "Epoch 5/50, Loss: 0.0729, Accuracy: 96.67%\n",
            "Epoch 6/50, Loss: 0.1071, Accuracy: 95.83%\n",
            "Epoch 7/50, Loss: 0.0689, Accuracy: 99.17%\n",
            "Epoch 8/50, Loss: 0.0876, Accuracy: 97.50%\n",
            "Epoch 9/50, Loss: 0.1423, Accuracy: 96.67%\n",
            "Epoch 10/50, Loss: 0.0745, Accuracy: 98.33%\n",
            "Epoch 11/50, Loss: 0.1522, Accuracy: 95.83%\n",
            "Epoch 12/50, Loss: 0.2950, Accuracy: 90.00%\n",
            "Epoch 13/50, Loss: 0.1472, Accuracy: 95.00%\n",
            "Epoch 14/50, Loss: 0.1250, Accuracy: 95.83%\n",
            "Epoch 15/50, Loss: 0.1000, Accuracy: 95.83%\n",
            "Epoch 16/50, Loss: 0.0987, Accuracy: 95.83%\n",
            "Epoch 17/50, Loss: 0.1451, Accuracy: 94.17%\n",
            "Epoch 18/50, Loss: 0.1432, Accuracy: 95.83%\n",
            "Epoch 19/50, Loss: 0.1006, Accuracy: 96.67%\n",
            "Epoch 20/50, Loss: 0.1141, Accuracy: 94.17%\n",
            "Epoch 21/50, Loss: 0.1302, Accuracy: 95.00%\n",
            "Epoch 22/50, Loss: 0.2392, Accuracy: 90.83%\n",
            "Epoch 23/50, Loss: 0.2243, Accuracy: 90.83%\n",
            "Epoch 24/50, Loss: 0.1651, Accuracy: 94.17%\n",
            "Epoch 25/50, Loss: 0.1044, Accuracy: 94.17%\n",
            "Epoch 26/50, Loss: 0.1093, Accuracy: 96.67%\n",
            "Epoch 27/50, Loss: 0.0813, Accuracy: 97.50%\n",
            "Epoch 28/50, Loss: 0.0606, Accuracy: 97.50%\n",
            "Epoch 29/50, Loss: 0.0758, Accuracy: 97.50%\n",
            "Epoch 30/50, Loss: 0.0921, Accuracy: 97.50%\n",
            "Epoch 31/50, Loss: 0.2439, Accuracy: 92.50%\n",
            "Epoch 32/50, Loss: 0.1580, Accuracy: 94.17%\n",
            "Epoch 33/50, Loss: 0.1395, Accuracy: 94.17%\n",
            "Epoch 34/50, Loss: 0.1094, Accuracy: 95.83%\n",
            "Epoch 35/50, Loss: 0.0951, Accuracy: 97.50%\n",
            "Epoch 36/50, Loss: 0.0907, Accuracy: 96.67%\n",
            "Epoch 37/50, Loss: 0.0846, Accuracy: 96.67%\n",
            "Epoch 38/50, Loss: 0.0579, Accuracy: 97.50%\n",
            "Epoch 39/50, Loss: 0.1191, Accuracy: 95.00%\n",
            "Epoch 40/50, Loss: 0.0838, Accuracy: 95.83%\n",
            "Epoch 41/50, Loss: 0.1142, Accuracy: 96.67%\n",
            "Epoch 42/50, Loss: 0.0824, Accuracy: 97.50%\n",
            "Epoch 43/50, Loss: 0.0818, Accuracy: 96.67%\n",
            "Epoch 44/50, Loss: 0.1096, Accuracy: 96.67%\n",
            "Epoch 45/50, Loss: 0.1111, Accuracy: 95.00%\n",
            "Epoch 46/50, Loss: 0.0828, Accuracy: 97.50%\n",
            "Epoch 47/50, Loss: 0.0680, Accuracy: 96.67%\n",
            "Epoch 48/50, Loss: 0.0655, Accuracy: 98.33%\n",
            "Epoch 49/50, Loss: 0.0938, Accuracy: 96.67%\n",
            "Epoch 50/50, Loss: 0.0752, Accuracy: 97.50%\n"
          ]
        }
      ]
    },
    {
      "cell_type": "code",
      "source": [
        "# Evaluating the model on a test set\n",
        "correct = 0\n",
        "total = 0\n",
        "\n",
        "with torch.no_grad():\n",
        "    for inputs, targets in test_loader:\n",
        "        # Adjusting the dimensionality of input data\n",
        "        inputs = inputs.unsqueeze(1)\n",
        "        \n",
        "        outputs = model(inputs)\n",
        "        _, predicted = torch.max(outputs.data, 1)\n",
        "        total += targets.size(0)\n",
        "        correct += (predicted == targets).sum().item()\n",
        "\n",
        "accuracy = 100 * correct / total\n",
        "print(f\"Test Accuracy: {accuracy:.2f}%\")\n"
      ],
      "metadata": {
        "colab": {
          "base_uri": "https://localhost:8080/"
        },
        "id": "ugx1fMfJymM3",
        "outputId": "b7acbeca-ba61-4769-fe36-a9f4c5d705a4"
      },
      "execution_count": null,
      "outputs": [
        {
          "output_type": "stream",
          "name": "stdout",
          "text": [
            "Test Accuracy: 80.00%\n"
          ]
        }
      ]
    },
    {
      "cell_type": "code",
      "source": [],
      "metadata": {
        "id": "OI1wVPSU0InO"
      },
      "execution_count": null,
      "outputs": []
    },
    {
      "cell_type": "code",
      "source": [],
      "metadata": {
        "id": "mdz0LEYm0Ip1"
      },
      "execution_count": null,
      "outputs": []
    },
    {
      "cell_type": "code",
      "source": [],
      "metadata": {
        "id": "3bCjB2GF0ItN"
      },
      "execution_count": null,
      "outputs": []
    },
    {
      "cell_type": "code",
      "source": [],
      "metadata": {
        "id": "6ADb_HomK8Om"
      },
      "execution_count": null,
      "outputs": []
    },
    {
      "cell_type": "code",
      "source": [],
      "metadata": {
        "id": "ZhQ948YfK8SQ"
      },
      "execution_count": null,
      "outputs": []
    },
    {
      "cell_type": "code",
      "source": [],
      "metadata": {
        "id": "96opXzG9Lkpu"
      },
      "execution_count": null,
      "outputs": []
    },
    {
      "cell_type": "code",
      "source": [],
      "metadata": {
        "id": "WNJKLUgwLkv_"
      },
      "execution_count": null,
      "outputs": []
    },
    {
      "cell_type": "code",
      "source": [],
      "metadata": {
        "id": "9o8WOzlFLkyg"
      },
      "execution_count": null,
      "outputs": []
    },
    {
      "cell_type": "code",
      "source": [],
      "metadata": {
        "id": "uylqdVo4Lk1i"
      },
      "execution_count": null,
      "outputs": []
    },
    {
      "cell_type": "code",
      "source": [],
      "metadata": {
        "id": "QEvFY8N3Lk4C"
      },
      "execution_count": null,
      "outputs": []
    },
    {
      "cell_type": "code",
      "source": [],
      "metadata": {
        "id": "bhLVTgT3Lk7L"
      },
      "execution_count": null,
      "outputs": []
    },
    {
      "cell_type": "code",
      "source": [],
      "metadata": {
        "id": "Vi-ObKSY4dTi"
      },
      "execution_count": null,
      "outputs": []
    },
    {
      "cell_type": "code",
      "source": [],
      "metadata": {
        "id": "ayyoLf5Q5oj-"
      },
      "execution_count": null,
      "outputs": []
    },
    {
      "cell_type": "code",
      "source": [],
      "metadata": {
        "id": "pjEq6-JT5onH"
      },
      "execution_count": null,
      "outputs": []
    },
    {
      "cell_type": "code",
      "source": [],
      "metadata": {
        "id": "hHEoE4e85op6"
      },
      "execution_count": null,
      "outputs": []
    },
    {
      "cell_type": "code",
      "source": [],
      "metadata": {
        "id": "y9aMKvX-5otH"
      },
      "execution_count": null,
      "outputs": []
    },
    {
      "cell_type": "code",
      "source": [],
      "metadata": {
        "id": "qkk2lHVF5owW"
      },
      "execution_count": null,
      "outputs": []
    },
    {
      "cell_type": "code",
      "source": [
        "pip install datasets"
      ],
      "metadata": {
        "colab": {
          "base_uri": "https://localhost:8080/"
        },
        "id": "f4nchnSH5ozw",
        "outputId": "903fda8a-917b-4726-ccb5-a589dc5f7fa6"
      },
      "execution_count": null,
      "outputs": [
        {
          "output_type": "stream",
          "name": "stdout",
          "text": [
            "Looking in indexes: https://pypi.org/simple, https://us-python.pkg.dev/colab-wheels/public/simple/\n",
            "Requirement already satisfied: datasets in /usr/local/lib/python3.10/dist-packages (2.12.0)\n",
            "Requirement already satisfied: numpy>=1.17 in /usr/local/lib/python3.10/dist-packages (from datasets) (1.22.4)\n",
            "Requirement already satisfied: pyarrow>=8.0.0 in /usr/local/lib/python3.10/dist-packages (from datasets) (9.0.0)\n",
            "Requirement already satisfied: dill<0.3.7,>=0.3.0 in /usr/local/lib/python3.10/dist-packages (from datasets) (0.3.6)\n",
            "Requirement already satisfied: pandas in /usr/local/lib/python3.10/dist-packages (from datasets) (1.5.3)\n",
            "Requirement already satisfied: requests>=2.19.0 in /usr/local/lib/python3.10/dist-packages (from datasets) (2.27.1)\n",
            "Requirement already satisfied: tqdm>=4.62.1 in /usr/local/lib/python3.10/dist-packages (from datasets) (4.65.0)\n",
            "Requirement already satisfied: xxhash in /usr/local/lib/python3.10/dist-packages (from datasets) (3.2.0)\n",
            "Requirement already satisfied: multiprocess in /usr/local/lib/python3.10/dist-packages (from datasets) (0.70.14)\n",
            "Requirement already satisfied: fsspec[http]>=2021.11.1 in /usr/local/lib/python3.10/dist-packages (from datasets) (2023.4.0)\n",
            "Requirement already satisfied: aiohttp in /usr/local/lib/python3.10/dist-packages (from datasets) (3.8.4)\n",
            "Requirement already satisfied: huggingface-hub<1.0.0,>=0.11.0 in /usr/local/lib/python3.10/dist-packages (from datasets) (0.15.1)\n",
            "Requirement already satisfied: packaging in /usr/local/lib/python3.10/dist-packages (from datasets) (23.1)\n",
            "Requirement already satisfied: responses<0.19 in /usr/local/lib/python3.10/dist-packages (from datasets) (0.18.0)\n",
            "Requirement already satisfied: pyyaml>=5.1 in /usr/local/lib/python3.10/dist-packages (from datasets) (6.0)\n",
            "Requirement already satisfied: attrs>=17.3.0 in /usr/local/lib/python3.10/dist-packages (from aiohttp->datasets) (23.1.0)\n",
            "Requirement already satisfied: charset-normalizer<4.0,>=2.0 in /usr/local/lib/python3.10/dist-packages (from aiohttp->datasets) (2.0.12)\n",
            "Requirement already satisfied: multidict<7.0,>=4.5 in /usr/local/lib/python3.10/dist-packages (from aiohttp->datasets) (6.0.4)\n",
            "Requirement already satisfied: async-timeout<5.0,>=4.0.0a3 in /usr/local/lib/python3.10/dist-packages (from aiohttp->datasets) (4.0.2)\n",
            "Requirement already satisfied: yarl<2.0,>=1.0 in /usr/local/lib/python3.10/dist-packages (from aiohttp->datasets) (1.9.2)\n",
            "Requirement already satisfied: frozenlist>=1.1.1 in /usr/local/lib/python3.10/dist-packages (from aiohttp->datasets) (1.3.3)\n",
            "Requirement already satisfied: aiosignal>=1.1.2 in /usr/local/lib/python3.10/dist-packages (from aiohttp->datasets) (1.3.1)\n",
            "Requirement already satisfied: filelock in /usr/local/lib/python3.10/dist-packages (from huggingface-hub<1.0.0,>=0.11.0->datasets) (3.12.0)\n",
            "Requirement already satisfied: typing-extensions>=3.7.4.3 in /usr/local/lib/python3.10/dist-packages (from huggingface-hub<1.0.0,>=0.11.0->datasets) (4.5.0)\n",
            "Requirement already satisfied: urllib3<1.27,>=1.21.1 in /usr/local/lib/python3.10/dist-packages (from requests>=2.19.0->datasets) (1.26.15)\n",
            "Requirement already satisfied: certifi>=2017.4.17 in /usr/local/lib/python3.10/dist-packages (from requests>=2.19.0->datasets) (2022.12.7)\n",
            "Requirement already satisfied: idna<4,>=2.5 in /usr/local/lib/python3.10/dist-packages (from requests>=2.19.0->datasets) (3.4)\n",
            "Requirement already satisfied: python-dateutil>=2.8.1 in /usr/local/lib/python3.10/dist-packages (from pandas->datasets) (2.8.2)\n",
            "Requirement already satisfied: pytz>=2020.1 in /usr/local/lib/python3.10/dist-packages (from pandas->datasets) (2022.7.1)\n",
            "Requirement already satisfied: six>=1.5 in /usr/local/lib/python3.10/dist-packages (from python-dateutil>=2.8.1->pandas->datasets) (1.16.0)\n"
          ]
        }
      ]
    },
    {
      "cell_type": "code",
      "source": [
        "pip install transformers"
      ],
      "metadata": {
        "colab": {
          "base_uri": "https://localhost:8080/"
        },
        "id": "wodMkeb25o3h",
        "outputId": "97fc7d08-faa5-49f4-a7c6-ccb11b033a23"
      },
      "execution_count": null,
      "outputs": [
        {
          "output_type": "stream",
          "name": "stdout",
          "text": [
            "Looking in indexes: https://pypi.org/simple, https://us-python.pkg.dev/colab-wheels/public/simple/\n",
            "Requirement already satisfied: transformers in /usr/local/lib/python3.10/dist-packages (4.30.0)\n",
            "Requirement already satisfied: filelock in /usr/local/lib/python3.10/dist-packages (from transformers) (3.12.0)\n",
            "Requirement already satisfied: huggingface-hub<1.0,>=0.14.1 in /usr/local/lib/python3.10/dist-packages (from transformers) (0.15.1)\n",
            "Requirement already satisfied: numpy>=1.17 in /usr/local/lib/python3.10/dist-packages (from transformers) (1.22.4)\n",
            "Requirement already satisfied: packaging>=20.0 in /usr/local/lib/python3.10/dist-packages (from transformers) (23.1)\n",
            "Requirement already satisfied: pyyaml>=5.1 in /usr/local/lib/python3.10/dist-packages (from transformers) (6.0)\n",
            "Requirement already satisfied: regex!=2019.12.17 in /usr/local/lib/python3.10/dist-packages (from transformers) (2022.10.31)\n",
            "Requirement already satisfied: requests in /usr/local/lib/python3.10/dist-packages (from transformers) (2.27.1)\n",
            "Requirement already satisfied: tokenizers!=0.11.3,<0.14,>=0.11.1 in /usr/local/lib/python3.10/dist-packages (from transformers) (0.13.3)\n",
            "Requirement already satisfied: safetensors>=0.3.1 in /usr/local/lib/python3.10/dist-packages (from transformers) (0.3.1)\n",
            "Requirement already satisfied: tqdm>=4.27 in /usr/local/lib/python3.10/dist-packages (from transformers) (4.65.0)\n",
            "Requirement already satisfied: fsspec in /usr/local/lib/python3.10/dist-packages (from huggingface-hub<1.0,>=0.14.1->transformers) (2023.4.0)\n",
            "Requirement already satisfied: typing-extensions>=3.7.4.3 in /usr/local/lib/python3.10/dist-packages (from huggingface-hub<1.0,>=0.14.1->transformers) (4.5.0)\n",
            "Requirement already satisfied: urllib3<1.27,>=1.21.1 in /usr/local/lib/python3.10/dist-packages (from requests->transformers) (1.26.15)\n",
            "Requirement already satisfied: certifi>=2017.4.17 in /usr/local/lib/python3.10/dist-packages (from requests->transformers) (2022.12.7)\n",
            "Requirement already satisfied: charset-normalizer~=2.0.0 in /usr/local/lib/python3.10/dist-packages (from requests->transformers) (2.0.12)\n",
            "Requirement already satisfied: idna<4,>=2.5 in /usr/local/lib/python3.10/dist-packages (from requests->transformers) (3.4)\n"
          ]
        }
      ]
    },
    {
      "cell_type": "code",
      "source": [],
      "metadata": {
        "id": "5LSdfoF39Ip2"
      },
      "execution_count": null,
      "outputs": []
    },
    {
      "cell_type": "code",
      "source": [],
      "metadata": {
        "id": "VEim3tJf9Kgi"
      },
      "execution_count": null,
      "outputs": []
    },
    {
      "cell_type": "code",
      "source": [],
      "metadata": {
        "id": "3vjZF96a9qol"
      },
      "execution_count": null,
      "outputs": []
    },
    {
      "cell_type": "code",
      "source": [
        "# 检查训练集中的标签值范围\n",
        "train_labels = [sample['label'] for sample in dataset['train']]\n",
        "min_label = min(train_labels)\n",
        "max_label = max(train_labels)\n",
        "print(\"Min Label:\", min_label)\n",
        "print(\"Max Label:\", max_label)\n",
        "\n",
        "# 检查验证集中的标签值范围\n",
        "val_labels = [sample['label'] for sample in dataset['test']]\n",
        "min_label = min(val_labels)\n",
        "max_label = max(val_labels)\n",
        "print(\"Min Label:\", min_label)\n",
        "print(\"Max Label:\", max_label)\n"
      ],
      "metadata": {
        "colab": {
          "base_uri": "https://localhost:8080/"
        },
        "id": "eg94O1OkD-6K",
        "outputId": "ee4ff8e6-b758-4fe9-f3a1-2302debe33bb"
      },
      "execution_count": null,
      "outputs": [
        {
          "output_type": "stream",
          "name": "stdout",
          "text": [
            "Min Label: 0\n",
            "Max Label: 199\n",
            "Min Label: 0\n",
            "Max Label: 199\n"
          ]
        }
      ]
    },
    {
      "cell_type": "code",
      "source": [
        "import torch\n",
        "import torch.nn as nn\n",
        "import torch.optim as optim\n",
        "from torch.optim import Adam\n",
        "from torch.utils.data import Dataset, DataLoader\n",
        "from torchvision.transforms import ToTensor\n",
        "from transformers import ViTModel\n",
        "\n",
        "# 加载数据集\n",
        "from datasets import load_dataset\n",
        "dataset = load_dataset(\"alkzar90/CC6204-Hackaton-Cub-Dataset\")\n",
        "\n",
        "from torchvision.transforms import ToTensor\n",
        "from PIL import Image\n",
        "\n",
        "# 自定义数据集类\n",
        "class CustomDataset(Dataset):\n",
        "    def __init__(self, dataset, transform=None):\n",
        "        self.dataset = dataset\n",
        "        self.transform = transform\n",
        "\n",
        "    def __len__(self):\n",
        "        return len(self.dataset)\n",
        "\n",
        "    def __getitem__(self, idx):\n",
        "        sample = self.dataset[idx]\n",
        "        image = sample['image']\n",
        "        label = sample['label']\n",
        "\n",
        "        # Resize the image while maintaining the aspect ratio\n",
        "        image = self.resize_image(image, size=224)\n",
        "\n",
        "        image = self.transform(image)\n",
        "\n",
        "        return image, label\n",
        "\n",
        "    @staticmethod\n",
        "    def resize_image(image, size):\n",
        "        # Resize the image while maintaining the aspect ratio\n",
        "        width, height = image.size\n",
        "        aspect_ratio = width / height\n",
        "        if width > height:\n",
        "            new_height = size\n",
        "            new_width = int(new_height * aspect_ratio)\n",
        "        else:\n",
        "            new_width = size\n",
        "            new_height = int(new_width / aspect_ratio)\n",
        "\n",
        "        resized_image = image.resize((new_width, new_height), Image.BILINEAR)\n",
        "\n",
        "        # Pad the image if necessary to achieve the desired size\n",
        "        padded_image = Image.new(\"RGB\", (size, size))\n",
        "        padded_image.paste(resized_image, ((size - new_width) // 2, (size - new_height) // 2))\n",
        "\n",
        "        return padded_image\n",
        "\n",
        "\n",
        "# 划分训练集和验证集\n",
        "transform = ToTensor()\n",
        "train_dataset = CustomDataset(dataset['train'], transform)\n",
        "val_dataset = CustomDataset(dataset['test'], transform)\n",
        "\n",
        "# 创建数据加载器\n",
        "batch_size = 16\n",
        "train_loader = DataLoader(train_dataset, batch_size=batch_size, shuffle=True)\n",
        "val_loader = DataLoader(val_dataset, batch_size=batch_size)\n",
        "\n",
        "# 定义Transformer模型\n",
        "class ImageTransformer(nn.Module):\n",
        "    def __init__(self, input_dim, num_classes):\n",
        "        super(ImageTransformer, self).__init__()\n",
        "        self.transformer = ViTModel.from_pretrained('google/vit-base-patch16-224-in21k')\n",
        "        self.fc = nn.Linear(input_dim, num_classes)\n",
        "\n",
        "    def forward(self, x):\n",
        "        x = self.transformer(x)\n",
        "        x = x.last_hidden_state[:, 0, :]  # 提取CLS向量\n",
        "        x = self.fc(x)\n",
        "        return x\n",
        "\n",
        "# 创建模型实例\n",
        "input_dim = 768  # ViT模型的输出维度\n",
        "num_classes = 200  # 分类的类别数\n",
        "model = ImageTransformer(input_dim, num_classes)\n",
        "\n",
        "# 定义损失函数和优化器\n",
        "criterion = nn.CrossEntropyLoss()\n",
        "optimizer = Adam(model.parameters(), lr=0.001)\n"
      ],
      "metadata": {
        "colab": {
          "base_uri": "https://localhost:8080/",
          "height": 87,
          "referenced_widgets": [
            "d6cb0a6f2cea426d948b7fa534fec1c2",
            "4f2b6fa161c94b22ae5453d2bc43b528",
            "4dcf1deee8c540b3bcac3535a4f75ea5",
            "9c880cef30d649e29a3c1c25ffc1fd1a",
            "745be0d08414488285df19e1de3dacc0",
            "298827e45d734de7b8b78d837ccc7c16",
            "7be5417136d24e76bf85636a2be39de8",
            "6f8dfa4f847041abbb539ed05bea1a1b",
            "1f2667298d624cf1a77d671d02acc8cf",
            "82fdaba9d8884e68bff196af00271477",
            "5c17271428d74da1af3715b106d2763a"
          ]
        },
        "id": "1NPgllgnPN6p",
        "outputId": "8d021d77-e8be-4fe0-b3b9-ab60a98dd06b"
      },
      "execution_count": null,
      "outputs": [
        {
          "output_type": "stream",
          "name": "stderr",
          "text": [
            "WARNING:datasets.builder:Found cached dataset cc6204-hackaton-cub-dataset (/root/.cache/huggingface/datasets/alkzar90___cc6204-hackaton-cub-dataset/default/0.0.0/de850c9086bff0dd6d6eab90f79346241178f65e1a016a50eec240ae9cdf2064)\n"
          ]
        },
        {
          "output_type": "display_data",
          "data": {
            "text/plain": [
              "  0%|          | 0/2 [00:00<?, ?it/s]"
            ],
            "application/vnd.jupyter.widget-view+json": {
              "version_major": 2,
              "version_minor": 0,
              "model_id": "d6cb0a6f2cea426d948b7fa534fec1c2"
            }
          },
          "metadata": {}
        }
      ]
    },
    {
      "cell_type": "code",
      "source": [
        "device = torch.device(\"cuda\" if torch.cuda.is_available() else \"cpu\")\n",
        "model.to(device)\n",
        "\n",
        "num_epochs = 10\n",
        "for epoch in range(num_epochs):\n",
        "    model.train()\n",
        "    train_correct = 0\n",
        "    train_total = 0\n",
        "    for batch in train_loader:\n",
        "        images, labels = batch\n",
        "        images = images.to(device)\n",
        "        labels = labels.to(device)\n",
        "\n",
        "        optimizer.zero_grad()\n",
        "        outputs = model(images)\n",
        "        loss = criterion(outputs, labels)\n",
        "        loss.backward()\n",
        "        optimizer.step()\n",
        "\n",
        "        _, predicted = torch.max(outputs.data, 1)\n",
        "        train_total += labels.size(0)\n",
        "        train_correct += (predicted == labels).sum().item()\n",
        "\n",
        "    train_accuracy = train_correct / train_total\n",
        "\n",
        "    # Evaluate on the validation set\n",
        "    model.eval()\n",
        "    with torch.no_grad():\n",
        "        val_correct = 0\n",
        "        val_total = 0\n",
        "        for batch in val_loader:\n",
        "            images, labels = batch\n",
        "            images = images.to(device)\n",
        "            labels = labels.to(device)\n",
        "\n",
        "            outputs = model(images)\n",
        "            _, predicted = torch.max(outputs.data, 1)\n",
        "            val_total += labels.size(0)\n",
        "            val_correct += (predicted == labels).sum().item()\n",
        "\n",
        "        val_accuracy = val_correct / val_total\n",
        "\n",
        "    print(f\"Epoch [{epoch+1}/{num_epochs}], Training Accuracy: {train_accuracy:.4f}, Validation Accuracy: {val_accuracy:.4f}\")\n"
      ],
      "metadata": {
        "colab": {
          "base_uri": "https://localhost:8080/"
        },
        "id": "CR7LQ6xfVIn3",
        "outputId": "31ed764e-7f9b-482e-f13b-9c93616459e5"
      },
      "execution_count": null,
      "outputs": [
        {
          "output_type": "stream",
          "name": "stdout",
          "text": [
            "Epoch [1/10], Training Accuracy: 0.0032, Validation Accuracy: 0.0050\n",
            "Epoch [2/10], Training Accuracy: 0.0038, Validation Accuracy: 0.0052\n",
            "Epoch [3/10], Training Accuracy: 0.0027, Validation Accuracy: 0.0052\n",
            "Epoch [4/10], Training Accuracy: 0.0047, Validation Accuracy: 0.0052\n",
            "Epoch [5/10], Training Accuracy: 0.0043, Validation Accuracy: 0.0052\n",
            "Epoch [6/10], Training Accuracy: 0.0042, Validation Accuracy: 0.0052\n",
            "Epoch [7/10], Training Accuracy: 0.0057, Validation Accuracy: 0.0052\n",
            "Epoch [8/10], Training Accuracy: 0.0042, Validation Accuracy: 0.0048\n",
            "Epoch [9/10], Training Accuracy: 0.0037, Validation Accuracy: 0.0050\n",
            "Epoch [10/10], Training Accuracy: 0.0047, Validation Accuracy: 0.0052\n"
          ]
        }
      ]
    }
  ]
}